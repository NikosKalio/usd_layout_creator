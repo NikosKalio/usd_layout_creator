{
 "cells": [
  {
   "cell_type": "code",
   "execution_count": null,
   "metadata": {},
   "outputs": [],
   "source": [
    "from run_demo import demo\n",
    "from USD_modules.visualization import DisplayUSD\n"
   ]
  },
  {
   "cell_type": "code",
   "execution_count": null,
   "metadata": {},
   "outputs": [],
   "source": [
    "user_input = \"\"\"I need a modular workspace setup that includes three cabinets: \n",
    "    One bin cabinet on the left, small-sized with a compact footprint, \n",
    "    one rolling cabinet in the center, small-sized with smooth castors for mobility, designed with multiple drawers, \n",
    "    and one drawer cabinet on the right, small-sized and optimized for tool storage.\n",
    "    The workbench should have an ABS top for durability and easy maintenance. \n",
    "    The rear of the setup requires three rows of rear panels, designed for modular functionality and support.\"\"\"\n",
    "demo(user_input)"
   ]
  },
  {
   "cell_type": "code",
   "execution_count": null,
   "metadata": {},
   "outputs": [],
   "source": [
    "DisplayUSD(\"assembly.usda\")"
   ]
  }
 ],
 "metadata": {
  "kernelspec": {
   "display_name": "venv",
   "language": "python",
   "name": "python3"
  },
  "language_info": {
   "codemirror_mode": {
    "name": "ipython",
    "version": 3
   },
   "file_extension": ".py",
   "mimetype": "text/x-python",
   "name": "python",
   "nbconvert_exporter": "python",
   "pygments_lexer": "ipython3",
   "version": "3.9.13"
  }
 },
 "nbformat": 4,
 "nbformat_minor": 2
}
